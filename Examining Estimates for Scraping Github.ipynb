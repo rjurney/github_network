{
 "cells": [
  {
   "cell_type": "markdown",
   "metadata": {},
   "source": [
    "# Examining Estimates for Scraping Github\n",
    "\n",
    "This was an experiment in taking a sample of a few Github project home pages. It became an example of showing how bad we can be at estimating how long something will take up front based on limited progress. Using a simple method of estimation:\n",
    "\n",
    "* Calculate the unit time: Divide the total time so far spent by the number of items of work\n",
    "* Multiply the unit time by the total work volume minus the items completed\n",
    "\n",
    "This is a method that is used in the real world, and it approximates how the human mind works when it performs software and data science estimation. Lets see what the consequences are of this algorithm!"
   ]
  },
  {
   "cell_type": "code",
   "execution_count": 20,
   "metadata": {},
   "outputs": [
    {
     "data": {
      "text/html": [
       "<div>\n",
       "<table border=\"1\" class=\"dataframe\">\n",
       "  <thead>\n",
       "    <tr style=\"text-align: right;\">\n",
       "      <th></th>\n",
       "      <th>id</th>\n",
       "      <th>total</th>\n",
       "      <th>so_far</th>\n",
       "      <th>to_go</th>\n",
       "      <th>estimate_delta</th>\n",
       "    </tr>\n",
       "  </thead>\n",
       "  <tbody>\n",
       "    <tr>\n",
       "      <th>0</th>\n",
       "      <td>0</td>\n",
       "      <td>4071996</td>\n",
       "      <td>899.405029</td>\n",
       "      <td>3.662374e+09</td>\n",
       "      <td>3.662374e+09</td>\n",
       "    </tr>\n",
       "    <tr>\n",
       "      <th>1</th>\n",
       "      <td>1</td>\n",
       "      <td>4071996</td>\n",
       "      <td>999.937988</td>\n",
       "      <td>2.035871e+09</td>\n",
       "      <td>1.626502e+09</td>\n",
       "    </tr>\n",
       "    <tr>\n",
       "      <th>2</th>\n",
       "      <td>2</td>\n",
       "      <td>4071996</td>\n",
       "      <td>1101.675781</td>\n",
       "      <td>1.495339e+09</td>\n",
       "      <td>5.405322e+08</td>\n",
       "    </tr>\n",
       "    <tr>\n",
       "      <th>3</th>\n",
       "      <td>3</td>\n",
       "      <td>4071996</td>\n",
       "      <td>1204.192139</td>\n",
       "      <td>1.225865e+09</td>\n",
       "      <td>2.694736e+08</td>\n",
       "    </tr>\n",
       "    <tr>\n",
       "      <th>4</th>\n",
       "      <td>4</td>\n",
       "      <td>4071996</td>\n",
       "      <td>1308.211914</td>\n",
       "      <td>1.065406e+09</td>\n",
       "      <td>1.604598e+08</td>\n",
       "    </tr>\n",
       "    <tr>\n",
       "      <th>5</th>\n",
       "      <td>5</td>\n",
       "      <td>4071996</td>\n",
       "      <td>1409.843994</td>\n",
       "      <td>9.568120e+08</td>\n",
       "      <td>1.085937e+08</td>\n",
       "    </tr>\n",
       "  </tbody>\n",
       "</table>\n",
       "</div>"
      ],
      "text/plain": [
       "   id    total       so_far         to_go  estimate_delta\n",
       "0   0  4071996   899.405029  3.662374e+09    3.662374e+09\n",
       "1   1  4071996   999.937988  2.035871e+09    1.626502e+09\n",
       "2   2  4071996  1101.675781  1.495339e+09    5.405322e+08\n",
       "3   3  4071996  1204.192139  1.225865e+09    2.694736e+08\n",
       "4   4  4071996  1308.211914  1.065406e+09    1.604598e+08\n",
       "5   5  4071996  1409.843994  9.568120e+08    1.085937e+08"
      ]
     },
     "execution_count": 20,
     "metadata": {},
     "output_type": "execute_result"
    }
   ],
   "source": [
    "import sys, os, re\n",
    "import json\n",
    "import pandas as pd\n",
    "import numpy as np\n",
    "\n",
    "with open(\"data/experiment.jsonl\") as f:\n",
    "  records = [json.loads(x) for x in f]\n",
    "  index = [x[0] for x in records]\n",
    "\n",
    "df = pd.DataFrame.from_records(\n",
    "  records, \n",
    "  index=index, \n",
    "  columns=[\n",
    "    'id', \n",
    "    'total', \n",
    "    'so_far', \n",
    "    'to_go', \n",
    "    'estimate_delta'\n",
    "  ]\n",
    ")\n",
    "\n",
    "df[0:6]"
   ]
  },
  {
   "cell_type": "markdown",
   "metadata": {},
   "source": [
    "## Estimation Up Front\n",
    "\n",
    "When we estimate up front based on limited information, we make bad estimates that rapidly improve with the additional information that comes from progress on the project. Once things are up and running, even a few percent in, our estimates become much more accurate and valuable."
   ]
  },
  {
   "cell_type": "code",
   "execution_count": 18,
   "metadata": {},
   "outputs": [
    {
     "data": {
      "text/plain": [
       "<matplotlib.axes._subplots.AxesSubplot at 0x110188550>"
      ]
     },
     "execution_count": 18,
     "metadata": {},
     "output_type": "execute_result"
    },
    {
     "data": {
      "image/png": "[encoded data removed]",
      "text/plain": [
       "<matplotlib.figure.Figure at 0x110342940>"
      ]
     },
     "metadata": {},
     "output_type": "display_data"
    }
   ],
   "source": [
    "%matplotlib inline\n",
    "\n",
    "# The data rapidly flattens, so zoom in on the first 200 records\n",
    "plot_data = df[['to_go','estimate_delta']][0:150]\n",
    "\n",
    "plot_data.plot(\n",
    "  figsize=(15,7)\n",
    ")"
   ]
  },
  {
   "cell_type": "code",
   "execution_count": null,
   "metadata": {
    "collapsed": true
   },
   "outputs": [],
   "source": []
  }
 ],
 "metadata": {
  "kernelspec": {
   "display_name": "Python 3",
   "language": "python",
   "name": "python3"
  },
  "language_info": {
   "codemirror_mode": {
    "name": "ipython",
    "version": 3
   },
   "file_extension": ".py",
   "mimetype": "text/x-python",
   "name": "python",
   "nbconvert_exporter": "python",
   "pygments_lexer": "ipython3",
   "version": "3.6.2"
  }
 },
 "nbformat": 4,
 "nbformat_minor": 2
}
